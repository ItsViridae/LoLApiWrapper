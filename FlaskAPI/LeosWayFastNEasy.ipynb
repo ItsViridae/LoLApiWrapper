{
 "cells": [
  {
   "cell_type": "code",
   "execution_count": 40,
   "metadata": {},
   "outputs": [
    {
     "name": "stdout",
     "output_type": "stream",
     "text": [
      "10.12.1\n",
      "10.12.1\n",
      "10.12.1\n"
     ]
    }
   ],
   "source": [
    "#PullLoLDataAssets\n",
    "import requests\n",
    "import json\n",
    "# Get Current Patch\n",
    "def getCurrentVersion():\n",
    "    versionResponse = requests.get(\"https://ddragon.leagueoflegends.com/api/versions.json\")\n",
    "    version_patch_RawData = versionResponse.json()\n",
    "    currentVersion = version_patch_RawData[0]\n",
    "    print(currentVersion)\n",
    "    return currentVersion\n",
    "\n",
    "#champions, items, summoner_spells, spells\n",
    "def GetDDragonData_Champions():\n",
    "    version = getCurrentVersion()\n",
    "    #Champions Data\n",
    "    response = requests.get(\"http://ddragon.leagueoflegends.com/cdn/\"+version+\"/data/en_US/champion.json\")\n",
    "    allChampionRawData = json.loads(response.text)\n",
    "\n",
    "    ChampionIdToName = {}\n",
    "    for key,champion in allChampionRawData['data'].items():\n",
    "        ChampionIdToName[int(champion['key'])] = champion['name']\n",
    "    #print(ChampionIdToName)\n",
    "    return ChampionIdToName\n",
    "\n",
    "def GetDDragonData_Items():\n",
    "    version = getCurrentVersion()\n",
    "    response = requests.get(\"http://ddragon.leagueoflegends.com/cdn/\"+version+\"/data/en_US/item.json\")\n",
    "    allItemsRawData = json.loads(response.text)\n",
    "    #QuickPrinter(allItemsRawData)\n",
    "\n",
    "    #Items Data\n",
    "    ItemIdToName = {}\n",
    "    for key,item in allItemsRawData['data'].items():\n",
    "        ItemIdToName[int(key)] = item['name']\n",
    "    #print(ItemToToName)\n",
    "    return ItemIdToName\n",
    "\n",
    "def QuickPrinter(String_to_Print):\n",
    "    print(json.dumps(String_to_Print, indent=4, sort_keys=True))\n",
    "\n",
    "#main()\n",
    "version = getCurrentVersion()\n",
    "#IMPORTANT\n",
    "#use These methods to call ID -> Name... GIVE A LIST INPUT OF IDs\n",
    "#GetDDragonData_Champions()\n",
    "#GetDDragonData_Items()"
   ]
  },
  {
   "cell_type": "code",
   "execution_count": 15,
   "metadata": {},
   "outputs": [],
   "source": [
    "import json\n",
    "import pandas as pd\n",
    "import numpy as np\n",
    "\n",
    "match = pd.read_json(\"GameDTO_GameID_AsKey.json\")"
   ]
  },
  {
   "cell_type": "code",
   "execution_count": 9,
   "metadata": {},
   "outputs": [],
   "source": [
    "with open(\"GameDTO_GameID_AsKey.json\", 'r') as f:\n",
    "    matchRaw = json.load(f)"
   ]
  },
  {
   "cell_type": "code",
   "execution_count": 13,
   "metadata": {},
   "outputs": [
    {
     "data": {
      "text/plain": [
       "'Darryl M'"
      ]
     },
     "execution_count": 13,
     "metadata": {},
     "output_type": "execute_result"
    }
   ],
   "source": [
    "matchRaw['3456083762']['participantAccountInfo'][0]['player']['summonerName']"
   ]
  },
  {
   "cell_type": "code",
   "execution_count": 30,
   "metadata": {},
   "outputs": [
    {
     "name": "stdout",
     "output_type": "stream",
     "text": [
      "Darryl M\n",
      "Axyang\n",
      "Sex In Bush\n",
      "3hoho3\n",
      "LiLBosco\n",
      "PorkPounder\n",
      "Learn2Program\n",
      "dumb asf support\n",
      "NicolafeyR\n",
      "jzmyj\n"
     ]
    }
   ],
   "source": [
    "for summonerName in matchRaw['3456083762']['participantAccountInfo']:\n",
    "    print(summonerName['player']['summonerName'])"
   ]
  },
  {
   "cell_type": "code",
   "execution_count": 31,
   "metadata": {},
   "outputs": [],
   "source": [
    "name = [summonerName['player']['summonerName']  for summonerName in matchRaw['3456083762']['participantAccountInfo']]"
   ]
  },
  {
   "cell_type": "code",
   "execution_count": 49,
   "metadata": {},
   "outputs": [],
   "source": [
    "Players_championId = [playerStats['championId'] for playerStats in matchRaw['3456083762']['participants']]"
   ]
  },
  {
   "cell_type": "code",
   "execution_count": 50,
   "metadata": {},
   "outputs": [
    {
     "data": {
      "text/plain": [
       "[141, 875, 106, 120, 38, 19, 69, 201, 67, 164]"
      ]
     },
     "execution_count": 50,
     "metadata": {},
     "output_type": "execute_result"
    }
   ],
   "source": [
    "Players_championId"
   ]
  },
  {
   "cell_type": "code",
   "execution_count": 52,
   "metadata": {
    "scrolled": true
   },
   "outputs": [
    {
     "name": "stdout",
     "output_type": "stream",
     "text": [
      "10.12.1\n",
      "141 Kayn\n",
      "875 Sett\n",
      "106 Volibear\n",
      "120 Hecarim\n",
      "38 Kassadin\n",
      "19 Warwick\n",
      "69 Cassiopeia\n",
      "201 Braum\n",
      "67 Vayne\n",
      "164 Camille\n"
     ]
    }
   ],
   "source": [
    "#Converts ChampionID -> Name from game\n",
    "champNameData = GetDDragonData_Champions()\n",
    "championList = []\n",
    "for val in Players_championId:\n",
    "    for key in champNameData:\n",
    "        if key == val:\n",
    "            championList.append(champNameData[key])\n",
    "            print(key, champNameData[key])\n"
   ]
  },
  {
   "cell_type": "code",
   "execution_count": 53,
   "metadata": {},
   "outputs": [
    {
     "data": {
      "text/plain": [
       "['Kayn',\n",
       " 'Sett',\n",
       " 'Volibear',\n",
       " 'Hecarim',\n",
       " 'Kassadin',\n",
       " 'Warwick',\n",
       " 'Cassiopeia',\n",
       " 'Braum',\n",
       " 'Vayne',\n",
       " 'Camille']"
      ]
     },
     "execution_count": 53,
     "metadata": {},
     "output_type": "execute_result"
    }
   ],
   "source": [
    "championList"
   ]
  },
  {
   "cell_type": "code",
   "execution_count": 66,
   "metadata": {},
   "outputs": [],
   "source": [
    "# Get KDA - Kills\n",
    "kills = [player['stats']['kills'] for player in matchRaw['3456083762']['participants']]"
   ]
  },
  {
   "cell_type": "code",
   "execution_count": 67,
   "metadata": {},
   "outputs": [
    {
     "data": {
      "text/plain": [
       "[2, 3, 9, 2, 4, 13, 2, 4, 10, 9]"
      ]
     },
     "execution_count": 67,
     "metadata": {},
     "output_type": "execute_result"
    }
   ],
   "source": [
    "kills"
   ]
  },
  {
   "cell_type": "code",
   "execution_count": 68,
   "metadata": {
    "scrolled": true
   },
   "outputs": [],
   "source": [
    "# Gets- Deaths\n",
    "deaths = [player['stats']['deaths'] for player in matchRaw['3456083762']['participants']]"
   ]
  },
  {
   "cell_type": "code",
   "execution_count": 69,
   "metadata": {},
   "outputs": [
    {
     "data": {
      "text/plain": [
       "[7, 9, 9, 8, 5, 3, 3, 3, 9, 2]"
      ]
     },
     "execution_count": 69,
     "metadata": {},
     "output_type": "execute_result"
    }
   ],
   "source": [
    "deaths"
   ]
  },
  {
   "cell_type": "code",
   "execution_count": 70,
   "metadata": {},
   "outputs": [],
   "source": [
    "#Gets Assists\n",
    "assists = [player['stats']['assists'] for player in matchRaw['3456083762']['participants']]"
   ]
  },
  {
   "cell_type": "code",
   "execution_count": 71,
   "metadata": {},
   "outputs": [
    {
     "data": {
      "text/plain": [
       "[4, 9, 3, 4, 1, 11, 8, 21, 7, 6]"
      ]
     },
     "execution_count": 71,
     "metadata": {},
     "output_type": "execute_result"
    }
   ],
   "source": [
    "assists"
   ]
  },
  {
   "cell_type": "code",
   "execution_count": 75,
   "metadata": {},
   "outputs": [],
   "source": [
    "#timeline Array\n",
    "#lane\n",
    "lane = [player['timeline']['lane'] for player in matchRaw['3456083762']['participants']]"
   ]
  },
  {
   "cell_type": "code",
   "execution_count": 76,
   "metadata": {},
   "outputs": [
    {
     "data": {
      "text/plain": [
       "['JUNGLE',\n",
       " 'BOTTOM',\n",
       " 'BOTTOM',\n",
       " 'TOP',\n",
       " 'MIDDLE',\n",
       " 'JUNGLE',\n",
       " 'MIDDLE',\n",
       " 'BOTTOM',\n",
       " 'BOTTOM',\n",
       " 'TOP']"
      ]
     },
     "execution_count": 76,
     "metadata": {},
     "output_type": "execute_result"
    }
   ],
   "source": [
    "lane"
   ]
  },
  {
   "cell_type": "code",
   "execution_count": 77,
   "metadata": {},
   "outputs": [],
   "source": [
    "role = [player['timeline']['role'] for player in matchRaw['3456083762']['participants']]"
   ]
  },
  {
   "cell_type": "code",
   "execution_count": 78,
   "metadata": {},
   "outputs": [
    {
     "data": {
      "text/plain": [
       "['NONE',\n",
       " 'DUO_CARRY',\n",
       " 'DUO_SUPPORT',\n",
       " 'SOLO',\n",
       " 'SOLO',\n",
       " 'NONE',\n",
       " 'SOLO',\n",
       " 'DUO_SUPPORT',\n",
       " 'DUO_CARRY',\n",
       " 'SOLO']"
      ]
     },
     "execution_count": 78,
     "metadata": {},
     "output_type": "execute_result"
    }
   ],
   "source": [
    "role"
   ]
  },
  {
   "cell_type": "code",
   "execution_count": 83,
   "metadata": {},
   "outputs": [],
   "source": [
    "timelineDetails = [player['timeline'] for player in matchRaw['3456083762']['participants']]"
   ]
  },
  {
   "cell_type": "code",
   "execution_count": 85,
   "metadata": {},
   "outputs": [],
   "source": [
    "# Cs before 10 mins\n",
    "csPre10Mins = [playerTimeline['creepsPerMinDeltas']['0-10']for playerTimeline in timelineDetails]"
   ]
  },
  {
   "cell_type": "code",
   "execution_count": 86,
   "metadata": {},
   "outputs": [
    {
     "data": {
      "text/plain": [
       "[0.2, 4.7, 2, 5.800000000000001, 5.8999999999999995, 0.2, 8.2, 1.5, 4.6, 6.1]"
      ]
     },
     "execution_count": 86,
     "metadata": {},
     "output_type": "execute_result"
    }
   ],
   "source": [
    "csPre10Mins"
   ]
  },
  {
   "cell_type": "code",
   "execution_count": 87,
   "metadata": {},
   "outputs": [],
   "source": [
    "#cs Post 10 Mins\n",
    "csPost10Mins = [playerTimeline['creepsPerMinDeltas']['10-20']for playerTimeline in timelineDetails]"
   ]
  },
  {
   "cell_type": "code",
   "execution_count": 88,
   "metadata": {},
   "outputs": [
    {
     "data": {
      "text/plain": [
       "[1, 4.699999999999999, 2.9000000000000004, 6.5, 7.5, 2.1, 8.7, 1.9, 7.1, 7.1]"
      ]
     },
     "execution_count": 88,
     "metadata": {},
     "output_type": "execute_result"
    }
   ],
   "source": [
    "csPost10Mins"
   ]
  },
  {
   "cell_type": "code",
   "execution_count": 89,
   "metadata": {},
   "outputs": [],
   "source": [
    "totalDamageDealtToChampions = [player['stats']['totalDamageDealtToChampions'] for player in matchRaw['3456083762']['participants']]"
   ]
  },
  {
   "cell_type": "code",
   "execution_count": 90,
   "metadata": {},
   "outputs": [
    {
     "data": {
      "text/plain": [
       "[7880, 14462, 13789, 13177, 10472, 20318, 8961, 10466, 24047, 19356]"
      ]
     },
     "execution_count": 90,
     "metadata": {},
     "output_type": "execute_result"
    }
   ],
   "source": [
    "totalDamageDealtToChampions"
   ]
  },
  {
   "cell_type": "code",
   "execution_count": 91,
   "metadata": {},
   "outputs": [],
   "source": [
    "wardsPlaced = [player['stats']['wardsPlaced'] for player in matchRaw['3456083762']['participants']]"
   ]
  },
  {
   "cell_type": "code",
   "execution_count": 92,
   "metadata": {},
   "outputs": [
    {
     "data": {
      "text/plain": [
       "[11, 7, 16, 6, 10, 5, 7, 14, 5, 6]"
      ]
     },
     "execution_count": 92,
     "metadata": {},
     "output_type": "execute_result"
    }
   ],
   "source": [
    "wardsPlaced"
   ]
  },
  {
   "cell_type": "code",
   "execution_count": 97,
   "metadata": {},
   "outputs": [],
   "source": [
    "#Spell1\n",
    "spell1 = [playerStats['spell1Id'] for playerStats in matchRaw['3456083762']['participants']]"
   ]
  },
  {
   "cell_type": "code",
   "execution_count": 98,
   "metadata": {},
   "outputs": [
    {
     "data": {
      "text/plain": [
       "[4, 4, 4, 12, 4, 4, 4, 14, 7, 4]"
      ]
     },
     "execution_count": 98,
     "metadata": {},
     "output_type": "execute_result"
    }
   ],
   "source": [
    "spell1"
   ]
  },
  {
   "cell_type": "code",
   "execution_count": 100,
   "metadata": {},
   "outputs": [],
   "source": [
    "#Spell2\n",
    "spell2 = [playerStats['spell2Id'] for playerStats in matchRaw['3456083762']['participants']]"
   ]
  },
  {
   "cell_type": "code",
   "execution_count": 101,
   "metadata": {},
   "outputs": [
    {
     "data": {
      "text/plain": [
       "[11, 3, 14, 14, 14, 11, 12, 4, 4, 12]"
      ]
     },
     "execution_count": 101,
     "metadata": {},
     "output_type": "execute_result"
    }
   ],
   "source": [
    "spell2"
   ]
  },
  {
   "cell_type": "code",
   "execution_count": 103,
   "metadata": {},
   "outputs": [],
   "source": [
    "#TeamId - what team they played on\n",
    "teamId = [playerStats['teamId'] for playerStats in matchRaw['3456083762']['participants']]"
   ]
  },
  {
   "cell_type": "code",
   "execution_count": 104,
   "metadata": {},
   "outputs": [
    {
     "data": {
      "text/plain": [
       "[100, 100, 100, 100, 100, 200, 200, 200, 200, 200]"
      ]
     },
     "execution_count": 104,
     "metadata": {},
     "output_type": "execute_result"
    }
   ],
   "source": [
    "teamId"
   ]
  },
  {
   "cell_type": "code",
   "execution_count": 105,
   "metadata": {},
   "outputs": [],
   "source": [
    "#Items\n",
    "item0 = [playerStats['stats']['item0'] for playerStats in matchRaw['3456083762']['participants']]"
   ]
  },
  {
   "cell_type": "code",
   "execution_count": 205,
   "metadata": {
    "scrolled": true
   },
   "outputs": [
    {
     "data": {
      "text/plain": [
       "[]"
      ]
     },
     "execution_count": 205,
     "metadata": {},
     "output_type": "execute_result"
    }
   ],
   "source": [
    "item0"
   ]
  },
  {
   "cell_type": "code",
   "execution_count": 322,
   "metadata": {},
   "outputs": [],
   "source": [
    "#Testing item list\n",
    "InventoryList = []\n",
    "item0 = [playerStats['stats']['item0'] for playerStats in matchRaw['3456083762']['participants']]\n",
    "item1 = [playerStats['stats']['item1'] for playerStats in matchRaw['3456083762']['participants']]\n",
    "item2 = [playerStats['stats']['item2'] for playerStats in matchRaw['3456083762']['participants']]\n",
    "item3 = [playerStats['stats']['item3'] for playerStats in matchRaw['3456083762']['participants']]\n",
    "item4 = [playerStats['stats']['item4'] for playerStats in matchRaw['3456083762']['participants']]\n",
    "item5 = [playerStats['stats']['item5'] for playerStats in matchRaw['3456083762']['participants']]\n",
    "item6 = [playerStats['stats']['item6'] for playerStats in matchRaw['3456083762']['participants']]"
   ]
  },
  {
   "cell_type": "code",
   "execution_count": 323,
   "metadata": {},
   "outputs": [
    {
     "data": {
      "text/plain": [
       "[0, 0, 3068, 0, 1001, 1038, 3116, 3050, 3086, 0]"
      ]
     },
     "execution_count": 323,
     "metadata": {},
     "output_type": "execute_result"
    }
   ],
   "source": [
    "item5"
   ]
  },
  {
   "cell_type": "code",
   "execution_count": 301,
   "metadata": {},
   "outputs": [],
   "source": [
    "#Convert Item ID -> Names\n",
    "#itemsNameFromDataDragon = GetDDragonData_Items()\n",
    "inventoryItem0 = []\n",
    "for i in item0:\n",
    "    for key in itemsNameFromDataDragon:\n",
    "        if i == '0':\n",
    "            inventoryItem0.append('NA')\n",
    "        if key == i:\n",
    "            inventoryItem0.append(itemsNameFromDataDragon[key])\n",
    "\n",
    "item0 = inventoryItem0    "
   ]
  },
  {
   "cell_type": "code",
   "execution_count": 302,
   "metadata": {},
   "outputs": [],
   "source": [
    "inventoryItem1 = []\n",
    "for i in item1:\n",
    "    for key in itemsNameFromDataDragon:\n",
    "        if i == '0' or i == 0 or i == '' or i == ' ':\n",
    "            inventoryItem1.append('NA')\n",
    "        if key == i:\n",
    "            inventoryItem1.append(itemsNameFromDataDragon[key])\n",
    "\n",
    "item1 = inventoryItem1 "
   ]
  },
  {
   "cell_type": "code",
   "execution_count": 324,
   "metadata": {},
   "outputs": [],
   "source": [
    "inventoryItem5 = []\n",
    "for i in item5:\n",
    "    for key in itemsNameFromDataDragon:\n",
    "        if key == i:\n",
    "            inventoryItem5.append(itemsNameFromDataDragon[key])\n",
    "        if i is None:\n",
    "            inventoryItem5.append('No Item')\n",
    "\n",
    "item5 = inventoryItem5 "
   ]
  },
  {
   "cell_type": "code",
   "execution_count": 310,
   "metadata": {
    "scrolled": true
   },
   "outputs": [
    {
     "data": {
      "text/plain": [
       "['Ninja Tabi',\n",
       " 'Blade of the Ruined King',\n",
       " 'Crystalline Bracer',\n",
       " 'Corrupting Potion',\n",
       " 'Broken Stopwatch',\n",
       " 'Redemption',\n",
       " \"Archangel's Staff\",\n",
       " 'Gargoyle Stoneplate',\n",
       " 'Dagger',\n",
       " 'Tiamat']"
      ]
     },
     "execution_count": 310,
     "metadata": {},
     "output_type": "execute_result"
    }
   ],
   "source": [
    "item1"
   ]
  },
  {
   "cell_type": "code",
   "execution_count": 311,
   "metadata": {},
   "outputs": [
    {
     "data": {
      "text/plain": [
       "[3211, 3071, 3855, 3047, 2055, 3077, 3136, 3857, 3006, 3812]"
      ]
     },
     "execution_count": 311,
     "metadata": {},
     "output_type": "execute_result"
    }
   ],
   "source": [
    "item2"
   ]
  },
  {
   "cell_type": "code",
   "execution_count": 312,
   "metadata": {},
   "outputs": [
    {
     "data": {
      "text/plain": [
       "[3044, 3111, 3075, 3082, 3003, 3047, 2031, 2055, 3124, 3078]"
      ]
     },
     "execution_count": 312,
     "metadata": {},
     "output_type": "execute_result"
    }
   ],
   "source": [
    "item3"
   ]
  },
  {
   "cell_type": "code",
   "execution_count": 313,
   "metadata": {},
   "outputs": [
    {
     "data": {
      "text/plain": [
       "[1029, 0, 3047, 3024, 3027, 3110, 0, 3047, 1055, 1055]"
      ]
     },
     "execution_count": 313,
     "metadata": {},
     "output_type": "execute_result"
    }
   ],
   "source": [
    "item4"
   ]
  },
  {
   "cell_type": "code",
   "execution_count": 325,
   "metadata": {},
   "outputs": [
    {
     "data": {
      "text/plain": [
       "['Sunfire Cape',\n",
       " 'Boots of Speed',\n",
       " 'B. F. Sword',\n",
       " \"Rylai's Crystal Scepter\",\n",
       " \"Zeke's Convergence\",\n",
       " 'Zeal']"
      ]
     },
     "execution_count": 325,
     "metadata": {},
     "output_type": "execute_result"
    }
   ],
   "source": [
    "item5"
   ]
  },
  {
   "cell_type": "code",
   "execution_count": 228,
   "metadata": {},
   "outputs": [
    {
     "data": {
      "text/plain": [
       "[3340, 3340, 3340, 3340, 3364, 3364, 3340, 3364, 3340, 3340]"
      ]
     },
     "execution_count": 228,
     "metadata": {},
     "output_type": "execute_result"
    }
   ],
   "source": [
    "item6"
   ]
  },
  {
   "cell_type": "code",
   "execution_count": 167,
   "metadata": {},
   "outputs": [],
   "source": [
    "#DataFrame Builder\n",
    "game_df = pd.DataFrame({'gameId':'3456083762', 'player_name':name, 'champion_id':Players_champion, 'champion': championList, 'lane':lane, 'kills': kills, 'deaths': deaths,'assists': assists, 'CS 0-10 Minutes': csPre10Mins, 'CS 10-20 Minutes': csPost10Mins, 'Damage to Champions':totalDamageDealtToChampions, 'Wards Placed':wardsPlaced, 'Item0': item0, 'Item1':item1, 'Item2':item2, 'Item3':item3, 'Item4':item4, 'Item5':item5, 'Item6':item6})"
   ]
  },
  {
   "cell_type": "code",
   "execution_count": 168,
   "metadata": {},
   "outputs": [
    {
     "data": {
      "text/html": [
       "<div>\n",
       "<style scoped>\n",
       "    .dataframe tbody tr th:only-of-type {\n",
       "        vertical-align: middle;\n",
       "    }\n",
       "\n",
       "    .dataframe tbody tr th {\n",
       "        vertical-align: top;\n",
       "    }\n",
       "\n",
       "    .dataframe thead th {\n",
       "        text-align: right;\n",
       "    }\n",
       "</style>\n",
       "<table border=\"1\" class=\"dataframe\">\n",
       "  <thead>\n",
       "    <tr style=\"text-align: right;\">\n",
       "      <th></th>\n",
       "      <th>gameId</th>\n",
       "      <th>player_name</th>\n",
       "      <th>champion_id</th>\n",
       "      <th>champion</th>\n",
       "      <th>lane</th>\n",
       "      <th>kills</th>\n",
       "      <th>deaths</th>\n",
       "      <th>assists</th>\n",
       "      <th>CS 0-10 Minutes</th>\n",
       "      <th>CS 10-20 Minutes</th>\n",
       "      <th>Damage to Champions</th>\n",
       "      <th>Wards Placed</th>\n",
       "      <th>Item0</th>\n",
       "      <th>Item1</th>\n",
       "      <th>Item2</th>\n",
       "      <th>Item3</th>\n",
       "      <th>Item4</th>\n",
       "      <th>Item5</th>\n",
       "      <th>Item6</th>\n",
       "    </tr>\n",
       "  </thead>\n",
       "  <tbody>\n",
       "    <tr>\n",
       "      <th>0</th>\n",
       "      <td>3456083762</td>\n",
       "      <td>Darryl M</td>\n",
       "      <td>141</td>\n",
       "      <td>Kayn</td>\n",
       "      <td>JUNGLE</td>\n",
       "      <td>2</td>\n",
       "      <td>7</td>\n",
       "      <td>4</td>\n",
       "      <td>0.2</td>\n",
       "      <td>1.0</td>\n",
       "      <td>7880</td>\n",
       "      <td>11</td>\n",
       "      <td>1400</td>\n",
       "      <td>3047</td>\n",
       "      <td>3211</td>\n",
       "      <td>3044</td>\n",
       "      <td>1029</td>\n",
       "      <td>0</td>\n",
       "      <td>3340</td>\n",
       "    </tr>\n",
       "    <tr>\n",
       "      <th>1</th>\n",
       "      <td>3456083762</td>\n",
       "      <td>Axyang</td>\n",
       "      <td>875</td>\n",
       "      <td>Sett</td>\n",
       "      <td>BOTTOM</td>\n",
       "      <td>3</td>\n",
       "      <td>9</td>\n",
       "      <td>9</td>\n",
       "      <td>4.7</td>\n",
       "      <td>4.7</td>\n",
       "      <td>14462</td>\n",
       "      <td>7</td>\n",
       "      <td>1054</td>\n",
       "      <td>3153</td>\n",
       "      <td>3071</td>\n",
       "      <td>3111</td>\n",
       "      <td>0</td>\n",
       "      <td>0</td>\n",
       "      <td>3340</td>\n",
       "    </tr>\n",
       "    <tr>\n",
       "      <th>2</th>\n",
       "      <td>3456083762</td>\n",
       "      <td>Sex In Bush</td>\n",
       "      <td>106</td>\n",
       "      <td>Volibear</td>\n",
       "      <td>BOTTOM</td>\n",
       "      <td>9</td>\n",
       "      <td>9</td>\n",
       "      <td>3</td>\n",
       "      <td>2.0</td>\n",
       "      <td>2.9</td>\n",
       "      <td>13789</td>\n",
       "      <td>16</td>\n",
       "      <td>1011</td>\n",
       "      <td>3801</td>\n",
       "      <td>3855</td>\n",
       "      <td>3075</td>\n",
       "      <td>3047</td>\n",
       "      <td>3068</td>\n",
       "      <td>3340</td>\n",
       "    </tr>\n",
       "    <tr>\n",
       "      <th>3</th>\n",
       "      <td>3456083762</td>\n",
       "      <td>3hoho3</td>\n",
       "      <td>120</td>\n",
       "      <td>Hecarim</td>\n",
       "      <td>TOP</td>\n",
       "      <td>2</td>\n",
       "      <td>8</td>\n",
       "      <td>4</td>\n",
       "      <td>5.8</td>\n",
       "      <td>6.5</td>\n",
       "      <td>13177</td>\n",
       "      <td>6</td>\n",
       "      <td>3078</td>\n",
       "      <td>2033</td>\n",
       "      <td>3047</td>\n",
       "      <td>3082</td>\n",
       "      <td>3024</td>\n",
       "      <td>0</td>\n",
       "      <td>3340</td>\n",
       "    </tr>\n",
       "    <tr>\n",
       "      <th>4</th>\n",
       "      <td>3456083762</td>\n",
       "      <td>LiLBosco</td>\n",
       "      <td>38</td>\n",
       "      <td>Kassadin</td>\n",
       "      <td>MIDDLE</td>\n",
       "      <td>4</td>\n",
       "      <td>5</td>\n",
       "      <td>1</td>\n",
       "      <td>5.9</td>\n",
       "      <td>7.5</td>\n",
       "      <td>10472</td>\n",
       "      <td>10</td>\n",
       "      <td>2033</td>\n",
       "      <td>2421</td>\n",
       "      <td>2055</td>\n",
       "      <td>3003</td>\n",
       "      <td>3027</td>\n",
       "      <td>1001</td>\n",
       "      <td>3364</td>\n",
       "    </tr>\n",
       "    <tr>\n",
       "      <th>5</th>\n",
       "      <td>3456083762</td>\n",
       "      <td>PorkPounder</td>\n",
       "      <td>19</td>\n",
       "      <td>Warwick</td>\n",
       "      <td>JUNGLE</td>\n",
       "      <td>13</td>\n",
       "      <td>3</td>\n",
       "      <td>11</td>\n",
       "      <td>0.2</td>\n",
       "      <td>2.1</td>\n",
       "      <td>20318</td>\n",
       "      <td>5</td>\n",
       "      <td>1419</td>\n",
       "      <td>3107</td>\n",
       "      <td>3077</td>\n",
       "      <td>3047</td>\n",
       "      <td>3110</td>\n",
       "      <td>1038</td>\n",
       "      <td>3364</td>\n",
       "    </tr>\n",
       "    <tr>\n",
       "      <th>6</th>\n",
       "      <td>3456083762</td>\n",
       "      <td>Learn2Program</td>\n",
       "      <td>69</td>\n",
       "      <td>Cassiopeia</td>\n",
       "      <td>MIDDLE</td>\n",
       "      <td>2</td>\n",
       "      <td>3</td>\n",
       "      <td>8</td>\n",
       "      <td>8.2</td>\n",
       "      <td>8.7</td>\n",
       "      <td>8961</td>\n",
       "      <td>7</td>\n",
       "      <td>1056</td>\n",
       "      <td>3003</td>\n",
       "      <td>3136</td>\n",
       "      <td>2031</td>\n",
       "      <td>0</td>\n",
       "      <td>3116</td>\n",
       "      <td>3340</td>\n",
       "    </tr>\n",
       "    <tr>\n",
       "      <th>7</th>\n",
       "      <td>3456083762</td>\n",
       "      <td>dumb asf support</td>\n",
       "      <td>201</td>\n",
       "      <td>Braum</td>\n",
       "      <td>BOTTOM</td>\n",
       "      <td>4</td>\n",
       "      <td>3</td>\n",
       "      <td>21</td>\n",
       "      <td>1.5</td>\n",
       "      <td>1.9</td>\n",
       "      <td>10466</td>\n",
       "      <td>14</td>\n",
       "      <td>3109</td>\n",
       "      <td>3193</td>\n",
       "      <td>3857</td>\n",
       "      <td>2055</td>\n",
       "      <td>3047</td>\n",
       "      <td>3050</td>\n",
       "      <td>3364</td>\n",
       "    </tr>\n",
       "    <tr>\n",
       "      <th>8</th>\n",
       "      <td>3456083762</td>\n",
       "      <td>NicolafeyR</td>\n",
       "      <td>67</td>\n",
       "      <td>Vayne</td>\n",
       "      <td>BOTTOM</td>\n",
       "      <td>10</td>\n",
       "      <td>9</td>\n",
       "      <td>7</td>\n",
       "      <td>4.6</td>\n",
       "      <td>7.1</td>\n",
       "      <td>24047</td>\n",
       "      <td>5</td>\n",
       "      <td>3153</td>\n",
       "      <td>1042</td>\n",
       "      <td>3006</td>\n",
       "      <td>3124</td>\n",
       "      <td>1055</td>\n",
       "      <td>3086</td>\n",
       "      <td>3340</td>\n",
       "    </tr>\n",
       "    <tr>\n",
       "      <th>9</th>\n",
       "      <td>3456083762</td>\n",
       "      <td>jzmyj</td>\n",
       "      <td>164</td>\n",
       "      <td>Camille</td>\n",
       "      <td>TOP</td>\n",
       "      <td>9</td>\n",
       "      <td>2</td>\n",
       "      <td>6</td>\n",
       "      <td>6.1</td>\n",
       "      <td>7.1</td>\n",
       "      <td>19356</td>\n",
       "      <td>6</td>\n",
       "      <td>3047</td>\n",
       "      <td>3077</td>\n",
       "      <td>3812</td>\n",
       "      <td>3078</td>\n",
       "      <td>1055</td>\n",
       "      <td>0</td>\n",
       "      <td>3340</td>\n",
       "    </tr>\n",
       "  </tbody>\n",
       "</table>\n",
       "</div>"
      ],
      "text/plain": [
       "       gameId       player_name  champion_id    champion    lane  kills  \\\n",
       "0  3456083762          Darryl M          141        Kayn  JUNGLE      2   \n",
       "1  3456083762            Axyang          875        Sett  BOTTOM      3   \n",
       "2  3456083762       Sex In Bush          106    Volibear  BOTTOM      9   \n",
       "3  3456083762            3hoho3          120     Hecarim     TOP      2   \n",
       "4  3456083762          LiLBosco           38    Kassadin  MIDDLE      4   \n",
       "5  3456083762       PorkPounder           19     Warwick  JUNGLE     13   \n",
       "6  3456083762     Learn2Program           69  Cassiopeia  MIDDLE      2   \n",
       "7  3456083762  dumb asf support          201       Braum  BOTTOM      4   \n",
       "8  3456083762        NicolafeyR           67       Vayne  BOTTOM     10   \n",
       "9  3456083762             jzmyj          164     Camille     TOP      9   \n",
       "\n",
       "   deaths  assists  CS 0-10 Minutes  CS 10-20 Minutes  Damage to Champions  \\\n",
       "0       7        4              0.2               1.0                 7880   \n",
       "1       9        9              4.7               4.7                14462   \n",
       "2       9        3              2.0               2.9                13789   \n",
       "3       8        4              5.8               6.5                13177   \n",
       "4       5        1              5.9               7.5                10472   \n",
       "5       3       11              0.2               2.1                20318   \n",
       "6       3        8              8.2               8.7                 8961   \n",
       "7       3       21              1.5               1.9                10466   \n",
       "8       9        7              4.6               7.1                24047   \n",
       "9       2        6              6.1               7.1                19356   \n",
       "\n",
       "   Wards Placed  Item0  Item1  Item2  Item3  Item4  Item5  Item6  \n",
       "0            11   1400   3047   3211   3044   1029      0   3340  \n",
       "1             7   1054   3153   3071   3111      0      0   3340  \n",
       "2            16   1011   3801   3855   3075   3047   3068   3340  \n",
       "3             6   3078   2033   3047   3082   3024      0   3340  \n",
       "4            10   2033   2421   2055   3003   3027   1001   3364  \n",
       "5             5   1419   3107   3077   3047   3110   1038   3364  \n",
       "6             7   1056   3003   3136   2031      0   3116   3340  \n",
       "7            14   3109   3193   3857   2055   3047   3050   3364  \n",
       "8             5   3153   1042   3006   3124   1055   3086   3340  \n",
       "9             6   3047   3077   3812   3078   1055      0   3340  "
      ]
     },
     "execution_count": 168,
     "metadata": {},
     "output_type": "execute_result"
    }
   ],
   "source": [
    "game_df[game_df['gameId'] == '3456083762']"
   ]
  },
  {
   "cell_type": "code",
   "execution_count": 171,
   "metadata": {},
   "outputs": [
    {
     "data": {
      "text/html": [
       "<div>\n",
       "<style scoped>\n",
       "    .dataframe tbody tr th:only-of-type {\n",
       "        vertical-align: middle;\n",
       "    }\n",
       "\n",
       "    .dataframe tbody tr th {\n",
       "        vertical-align: top;\n",
       "    }\n",
       "\n",
       "    .dataframe thead th {\n",
       "        text-align: right;\n",
       "    }\n",
       "</style>\n",
       "<table border=\"1\" class=\"dataframe\">\n",
       "  <thead>\n",
       "    <tr style=\"text-align: right;\">\n",
       "      <th></th>\n",
       "      <th>gameId</th>\n",
       "      <th>player_name</th>\n",
       "      <th>champion_id</th>\n",
       "      <th>champion</th>\n",
       "      <th>lane</th>\n",
       "      <th>kills</th>\n",
       "      <th>deaths</th>\n",
       "      <th>assists</th>\n",
       "      <th>CS 0-10 Minutes</th>\n",
       "      <th>CS 10-20 Minutes</th>\n",
       "      <th>Damage to Champions</th>\n",
       "      <th>Wards Placed</th>\n",
       "      <th>Item0</th>\n",
       "      <th>Item1</th>\n",
       "      <th>Item2</th>\n",
       "      <th>Item3</th>\n",
       "      <th>Item4</th>\n",
       "      <th>Item5</th>\n",
       "      <th>Item6</th>\n",
       "    </tr>\n",
       "  </thead>\n",
       "  <tbody>\n",
       "    <tr>\n",
       "      <th>6</th>\n",
       "      <td>3456083762</td>\n",
       "      <td>Learn2Program</td>\n",
       "      <td>69</td>\n",
       "      <td>Cassiopeia</td>\n",
       "      <td>MIDDLE</td>\n",
       "      <td>2</td>\n",
       "      <td>3</td>\n",
       "      <td>8</td>\n",
       "      <td>8.2</td>\n",
       "      <td>8.7</td>\n",
       "      <td>8961</td>\n",
       "      <td>7</td>\n",
       "      <td>1056</td>\n",
       "      <td>3003</td>\n",
       "      <td>3136</td>\n",
       "      <td>2031</td>\n",
       "      <td>0</td>\n",
       "      <td>3116</td>\n",
       "      <td>3340</td>\n",
       "    </tr>\n",
       "  </tbody>\n",
       "</table>\n",
       "</div>"
      ],
      "text/plain": [
       "       gameId    player_name  champion_id    champion    lane  kills  deaths  \\\n",
       "6  3456083762  Learn2Program           69  Cassiopeia  MIDDLE      2       3   \n",
       "\n",
       "   assists  CS 0-10 Minutes  CS 10-20 Minutes  Damage to Champions  \\\n",
       "6        8              8.2               8.7                 8961   \n",
       "\n",
       "   Wards Placed  Item0  Item1  Item2  Item3  Item4  Item5  Item6  \n",
       "6             7   1056   3003   3136   2031      0   3116   3340  "
      ]
     },
     "execution_count": 171,
     "metadata": {},
     "output_type": "execute_result"
    }
   ],
   "source": [
    "game_df[game_df['player_name'] == 'Learn2Program']"
   ]
  },
  {
   "cell_type": "code",
   "execution_count": null,
   "metadata": {},
   "outputs": [],
   "source": []
  }
 ],
 "metadata": {
  "kernelspec": {
   "display_name": "Python 3",
   "language": "python",
   "name": "python3"
  },
  "language_info": {
   "codemirror_mode": {
    "name": "ipython",
    "version": 3
   },
   "file_extension": ".py",
   "mimetype": "text/x-python",
   "name": "python",
   "nbconvert_exporter": "python",
   "pygments_lexer": "ipython3",
   "version": "3.8.3"
  }
 },
 "nbformat": 4,
 "nbformat_minor": 4
}
